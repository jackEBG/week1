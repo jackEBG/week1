{
 "cells": [
  {
   "cell_type": "code",
   "execution_count": 18,
   "metadata": {},
   "outputs": [
    {
     "name": "stdout",
     "output_type": "stream",
     "text": [
      "Invalid date entries:\n",
      "         Unnamed: 0                                           headline  \\\n",
      "10               10    30 Stocks Moving in Friday's Pre-Market Session   \n",
      "11               11  SVB Leerink Maintains Outperform on Agilent Te...   \n",
      "12               12  8 Stocks Moving In Thursday's After-Hours Session   \n",
      "13               13  Agilent Technologies shares are trading higher...   \n",
      "14               14  Agilent Technologies Q2 Adj. EPS $0.71 Beats $...   \n",
      "...             ...                                                ...   \n",
      "1407323     1413844             Top Narrow Based Indexes For August 29   \n",
      "1407324     1413845  Recap: Wednesday's Top Percentage Gainers and ...   \n",
      "1407325     1413846  UPDATE: Oppenheimer Color on China Zenix Auto ...   \n",
      "1407326     1413847  Oppenheimer Initiates China Zenix At Outperfor...   \n",
      "1407327     1413848  China Zenix Auto International Opens For Tradi...   \n",
      "\n",
      "                                                       url  \\\n",
      "10       https://www.benzinga.com/news/20/05/16092879/3...   \n",
      "11       https://www.benzinga.com/news/20/05/16092270/s...   \n",
      "12       https://www.benzinga.com/news/20/05/16089803/8...   \n",
      "13       https://www.benzinga.com/wiim/20/05/16089218/a...   \n",
      "14       https://www.benzinga.com/news/earnings/20/05/1...   \n",
      "...                                                    ...   \n",
      "1407323  https://www.benzinga.com/news/11/08/1888782/to...   \n",
      "1407324  https://www.benzinga.com/news/earnings/11/06/1...   \n",
      "1407325  https://www.benzinga.com/analyst-ratings/analy...   \n",
      "1407326  https://www.benzinga.com/analyst-ratings/price...   \n",
      "1407327  https://www.benzinga.com/news/ipos/11/05/10789...   \n",
      "\n",
      "                       publisher date stock  \n",
      "10                    Lisa Levin  NaT     A  \n",
      "11       vishwanath@benzinga.com  NaT     A  \n",
      "12                  Tyree Gorges  NaT     A  \n",
      "13             Benzinga Newsdesk  NaT     A  \n",
      "14             Benzinga Newsdesk  NaT     A  \n",
      "...                          ...  ...   ...  \n",
      "1407323            Monica Gerson  NaT    ZX  \n",
      "1407324             Benjamin Lee  NaT    ZX  \n",
      "1407325           BenzingaStaffL  NaT    ZX  \n",
      "1407326                Joe Young  NaT    ZX  \n",
      "1407327            Allie Wickman  NaT    ZX  \n",
      "\n",
      "[1351341 rows x 6 columns]\n",
      "            date  count\n",
      "0     2011-04-27      1\n",
      "1     2011-04-28      2\n",
      "2     2011-04-29      2\n",
      "3     2011-04-30      1\n",
      "4     2011-05-01      1\n",
      "...          ...    ...\n",
      "2523  2020-06-07     25\n",
      "2524  2020-06-08    765\n",
      "2525  2020-06-09    804\n",
      "2526  2020-06-10    806\n",
      "2527  2020-06-11    544\n",
      "\n",
      "[2528 rows x 2 columns]\n"
     ]
    }
   ],
   "source": [
    "import pandas as pd\n",
    "# Load the data\n",
    "filepath = (r'C:\\Users\\Admin.DESKTOP-M4R2VLU\\Documents\\week1L\\data\\raw_analyst_ratings.csv')  # Adjust the path as necessary\n",
    "data = pd.read_csv(filepath)\n",
    "\n",
    "# Convert 'date' to datetime with error handling\n",
    "data['date'] = pd.to_datetime(data['date'], errors='coerce')\n",
    "\n",
    "# Check for invalid dates\n",
    "invalid_dates = data[data['date'].isna()]\n",
    "if not invalid_dates.empty:\n",
    "    print(\"Invalid date entries:\")\n",
    "    print(invalid_dates)\n",
    "\n",
    "# Proceed with grouping by valid dates\n",
    "publication_counts = data.groupby(data['date'].dt.date).size()\n",
    "publication_counts_df = publication_counts.reset_index(name='count')\n",
    "\n",
    "# Display the result\n",
    "print(publication_counts_df)"
   ]
  }
 ],
 "metadata": {
  "kernelspec": {
   "display_name": ".venv",
   "language": "python",
   "name": "python3"
  },
  "language_info": {
   "codemirror_mode": {
    "name": "ipython",
    "version": 3
   },
   "file_extension": ".py",
   "mimetype": "text/x-python",
   "name": "python",
   "nbconvert_exporter": "python",
   "pygments_lexer": "ipython3",
   "version": "3.12.5"
  }
 },
 "nbformat": 4,
 "nbformat_minor": 2
}
